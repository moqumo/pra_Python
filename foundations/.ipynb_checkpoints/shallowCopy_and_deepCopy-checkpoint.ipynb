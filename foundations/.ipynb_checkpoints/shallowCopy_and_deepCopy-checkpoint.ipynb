{
 "cells": [
  {
   "cell_type": "markdown",
   "id": "14f778e5",
   "metadata": {},
   "source": [
    "# 1 代入に関わる問題とその解決方法\n",
    "#### 参考\n",
    "*1 [Python♪用語集：変更可能体(ミュータブル)と変更不能体(イミュータブル)](https://snowtree-injune.com/2018/07/17/post-562/)"
   ]
  },
  {
   "cell_type": "markdown",
   "id": "e1a77ec2",
   "metadata": {},
   "source": [
    "### 1.1 int型の場合"
   ]
  },
  {
   "cell_type": "code",
   "execution_count": 108,
   "id": "ab29328f",
   "metadata": {
    "scrolled": false
   },
   "outputs": [
    {
     "name": "stdout",
     "output_type": "stream",
     "text": [
      "代入前：a=1, b=1\n",
      "代入後：a=1, b=3\n"
     ]
    }
   ],
   "source": [
    "a = 1\n",
    "\n",
    "# aをbにコピー\n",
    "b = a\n",
    "print(\"代入前：a={}, b={}\".format(a,b))\n",
    "\n",
    "# bに3を代入\n",
    "b = 3\n",
    "print(\"代入後：a={}, b={}\".format(a,b))"
   ]
  },
  {
   "cell_type": "markdown",
   "id": "ccbc55db",
   "metadata": {},
   "source": [
    "bのみが変更されていて、これは問題ない。"
   ]
  },
  {
   "cell_type": "markdown",
   "id": "91567e9c",
   "metadata": {},
   "source": [
    "### 1.2 list型の場合"
   ]
  },
  {
   "cell_type": "code",
   "execution_count": 107,
   "id": "4f189b89",
   "metadata": {
    "scrolled": true
   },
   "outputs": [
    {
     "name": "stdout",
     "output_type": "stream",
     "text": [
      "代入前：x=[1, 2, 3], y=[1, 2, 3]\n",
      "代入前：x=[1000, 2, 3], y=[1000, 2, 3]\n"
     ]
    }
   ],
   "source": [
    "x = [1, 2, 3]\n",
    "\n",
    "# xをyにコピー\n",
    "y = x\n",
    "print(\"代入前：x={}, y={}\".format(x,y))\n",
    "\n",
    "# y[0]に1000を代入\n",
    "y[0] = 1000\n",
    "print(\"代入前：x={}, y={}\".format(x,y))"
   ]
  },
  {
   "cell_type": "markdown",
   "id": "924ed940",
   "metadata": {},
   "source": [
    "**yだけを変更したはずが、xも変更されてしまっている。**"
   ]
  },
  {
   "cell_type": "markdown",
   "id": "3892c4dc",
   "metadata": {},
   "source": [
    "### 1.3 解決方法\n",
    "deepcopy()を行う。"
   ]
  },
  {
   "cell_type": "code",
   "execution_count": 106,
   "id": "78c29c67",
   "metadata": {},
   "outputs": [
    {
     "name": "stdout",
     "output_type": "stream",
     "text": [
      "代入前：x=[1, 2, 3], y=[1, 2, 3]\n",
      "代入前：x=[1, 2, 3], y=[1000, 2, 3]\n"
     ]
    }
   ],
   "source": [
    "import copy\n",
    "x = [1, 2, 3]\n",
    "\n",
    "# xをyにコピー\n",
    "y = copy.deepcopy(x)\n",
    "print(\"代入前：x={}, y={}\".format(x,y))\n",
    "\n",
    "# y[0]に1000を代入\n",
    "y[0] = 1000\n",
    "print(\"代入前：x={}, y={}\".format(x,y))"
   ]
  },
  {
   "cell_type": "markdown",
   "id": "712f5167",
   "metadata": {},
   "source": [
    "ちゃんと、yのみが変更され、xはそのままになった。"
   ]
  },
  {
   "cell_type": "markdown",
   "id": "b355036b",
   "metadata": {},
   "source": [
    "# 2 なぜlist型のコピーでは、うまくいかないのか。   "
   ]
  },
  {
   "cell_type": "markdown",
   "id": "24be811f",
   "metadata": {},
   "source": [
    "### 2.1 アドレスを見てみよう\n",
    "pythonは組み込み関数であるid()で変数のアドレスを確認することができる。"
   ]
  },
  {
   "cell_type": "markdown",
   "id": "902d47df",
   "metadata": {},
   "source": [
    "「1.1 int型の場合」のソースコードにおいて、各処理でどのようにアドレスが変化しているか見てみる。"
   ]
  },
  {
   "cell_type": "code",
   "execution_count": 101,
   "id": "17b78eea",
   "metadata": {
    "scrolled": true
   },
   "outputs": [
    {
     "name": "stdout",
     "output_type": "stream",
     "text": [
      "aのid = 1646835099952\n"
     ]
    }
   ],
   "source": [
    "a = 1\n",
    "print(\"aのid =\",id(a))"
   ]
  },
  {
   "cell_type": "markdown",
   "id": "f3267bf6",
   "metadata": {},
   "source": [
    "これを慎重に解釈するならば、\n",
    "```\n",
    "aという変数は、「1646835099952番地」を格納しており、       \n",
    "1646835099952番地が、「1」を格納している。\n",
    "```\n",
    "ということになる。"
   ]
  },
  {
   "cell_type": "code",
   "execution_count": 99,
   "id": "c3e85913",
   "metadata": {
    "scrolled": false
   },
   "outputs": [
    {
     "name": "stdout",
     "output_type": "stream",
     "text": [
      "aのid = 1646835099952\n",
      "bのid = 1646835099952\n"
     ]
    }
   ],
   "source": [
    "# aをbにコピー\n",
    "b = a\n",
    "print(\"aのid =\",id(a))\n",
    "print(\"bのid =\",id(b))"
   ]
  },
  {
   "cell_type": "markdown",
   "id": "d8161637",
   "metadata": {},
   "source": [
    "aとbのidは同じ。    \n",
    "つまり、b = aを身長に慎重に解釈するならば、\n",
    "```\n",
    "aが格納している番地1646835099952を   \n",
    "bにコピーしている。\n",
    "```\n",
    "ということになる。    \n",
    "\n",
    "C言語における b = aは、`int b = a;` として表記するように、`int b`でメモリを確保(ここでいうと「B番地」を保持)してから、`~ b = a;`でaが格納する「A番地」が格納する「1」が、bが格納する「B番地」に格納する、という処理を経る。  \n",
    "```\n",
    "a => A\n",
    "A => 1\n",
    "\n",
    "b => B\n",
    "B => 1 (b = a でコピー)\n",
    "```\n",
    "しかし、pythonにおいては、上記のidの変化からわかるように、\n",
    "```\n",
    "a => A\n",
    "A => 1\n",
    "\n",
    "b => A (b = a でコピー)\n",
    "```\n",
    "という処理を経ている。    \n",
    "しかし、これでは、`b = 3`とした場合に、A => 3 となり、\n",
    "他にA番地を参照しているaの値も変わってしまうのではないだろうか。\n",
    "```\n",
    "a => A\n",
    "b => A\n",
    "\n",
    "A => 3 (b = 3 で代入)\n",
    "```\n",
    "でも、「1.1 int型の場合」でもわかったようにbのみが変更される。"
   ]
  },
  {
   "cell_type": "code",
   "execution_count": 105,
   "id": "31f8f0af",
   "metadata": {},
   "outputs": [
    {
     "name": "stdout",
     "output_type": "stream",
     "text": [
      "aのid = 1646835099952\n",
      "bのid = 1646835100016\n"
     ]
    }
   ],
   "source": [
    "# bに3を代入\n",
    "b = 3\n",
    "print(\"aのid =\",id(a))\n",
    "print(\"bのid =\",id(b))"
   ]
  },
  {
   "cell_type": "markdown",
   "id": "f6a9ef07",
   "metadata": {},
   "source": [
    "bのアドレスが、1646835099952から1646835100016に変化している。図示すると、以下のようになる。   \n",
    "```\n",
    "a => A\n",
    "b => B (b = 3で代入)\n",
    "\n",
    "A => 1\n",
    "B => 3 (b = 3で代入)\n",
    "```\n",
    "これは、pythonにおいてint型が**イミュータブル**であるためである。"
   ]
  },
  {
   "cell_type": "markdown",
   "id": "3ed6fca3",
   "metadata": {},
   "source": [
    "### 2.2 なぜ、アドレスが変わる？"
   ]
  },
  {
   "cell_type": "markdown",
   "id": "0932fbf4",
   "metadata": {},
   "source": [
    "上記までは、複雑な処理をしてしまったので、ここからは値の更新のみを行いながら、アドレスの変化を見ていく。"
   ]
  },
  {
   "cell_type": "code",
   "execution_count": 118,
   "id": "b05e7040",
   "metadata": {},
   "outputs": [
    {
     "name": "stdout",
     "output_type": "stream",
     "text": [
      "1646835099952\n",
      "1646835099984\n",
      "1646915469360\n"
     ]
    }
   ],
   "source": [
    "b = 1\n",
    "print(id(b))\n",
    "b = 2\n",
    "print(id(b))\n",
    "b = 1000\n",
    "print(id(b))"
   ]
  },
  {
   "cell_type": "markdown",
   "id": "35e884b1",
   "metadata": {},
   "source": [
    "この結果からわかるように、値が更新されているたびにbのアドレスが変わっている。     \n",
    "これは、pythonではint型は**イミュータブル**であるためである。"
   ]
  },
  {
   "cell_type": "code",
   "execution_count": null,
   "id": "329dcd62",
   "metadata": {},
   "outputs": [],
   "source": [
    "2.3 "
   ]
  },
  {
   "cell_type": "markdown",
   "id": "2f5b42da",
   "metadata": {},
   "source": [
    "# 3 浅いコピーと深いコピー"
   ]
  },
  {
   "cell_type": "markdown",
   "id": "ee86070c",
   "metadata": {},
   "source": [
    "### 3.1 参照型"
   ]
  },
  {
   "cell_type": "markdown",
   "id": "1e43766b",
   "metadata": {},
   "source": [
    "### 3.1 値型と参照型について   \n",
    "- 値型...実際の値を格納している。   \n",
    "- 参照型...参照先のアドレス(番地)を格納している。実際の値は、その参照先のアドレスに格納されている。\n",
    "\n",
    "pythonの場合、基本的に参照型？？    \n",
    "pythonの場合、基本的に参照渡し？？？"
   ]
  },
  {
   "cell_type": "code",
   "execution_count": 74,
   "id": "d7ed298e",
   "metadata": {
    "scrolled": true
   },
   "outputs": [
    {
     "name": "stdout",
     "output_type": "stream",
     "text": [
      "4\n"
     ]
    }
   ],
   "source": [
    "# returnをする関数\n",
    "def add3_return(n):\n",
    "    n += 3\n",
    "    return n\n",
    "\n",
    "x = 1\n",
    "x = add3_return(x)\n",
    "print(x)"
   ]
  },
  {
   "cell_type": "markdown",
   "id": "2ad1075d",
   "metadata": {},
   "source": [
    "値は変更される。"
   ]
  },
  {
   "cell_type": "code",
   "execution_count": 85,
   "id": "38b8f4d9",
   "metadata": {},
   "outputs": [
    {
     "name": "stdout",
     "output_type": "stream",
     "text": [
      "1\n"
     ]
    }
   ],
   "source": [
    "# returnをしない関数\n",
    "def add3(n):\n",
    "    n += 3\n",
    "    \n",
    "x = 1\n",
    "add3(x)\n",
    "print(x)"
   ]
  },
  {
   "cell_type": "markdown",
   "id": "0544f4d8",
   "metadata": {},
   "source": [
    "値は変更されない。"
   ]
  },
  {
   "cell_type": "code",
   "execution_count": 77,
   "id": "2e0ffab5",
   "metadata": {
    "scrolled": false
   },
   "outputs": [
    {
     "name": "stdout",
     "output_type": "stream",
     "text": [
      "外：\n",
      " value 1\n",
      " id 1646835099952\n",
      "関数内：値変更前\n",
      " value 1\n",
      " id 1646835099952\n",
      "関数内：値変更後\n",
      " value 4\n",
      " id 1646835100048\n",
      "外：\n",
      " value 4\n",
      " id 1646835100048\n"
     ]
    }
   ],
   "source": [
    "# returnをする関数\n",
    "def add3_return(n):\n",
    "    print(\"関数内：値変更前\")\n",
    "    print(\" value\",n)\n",
    "    print(\" id\",id(n))\n",
    "    n += 3\n",
    "    print(\"関数内：値変更後\")\n",
    "    print(\" value\",n)\n",
    "    print(\" id\",id(n))\n",
    "    return n\n",
    "\n",
    "x = 1\n",
    "\n",
    "print(\"外：\")\n",
    "print(\" value\",x)\n",
    "print(\" id\",id(x))\n",
    "\n",
    "x = add3_return(x)\n",
    "\n",
    "print(\"外：\")\n",
    "print(\" value\",x)\n",
    "print(\" id\",id(x))"
   ]
  },
  {
   "cell_type": "markdown",
   "id": "17d74a07",
   "metadata": {},
   "source": [
    "アドレス  \n",
    "```\n",
    "x         1234  \n",
    "(値渡し(参照渡し) 1234を関数内に渡す)\n",
    "関数内    1234   \n",
    "(値を変更 1234→5678 (intはイミュータブルであるため、新しい番地に新しい値を生み出すことで、値の変更をみせかけで行っている))        \n",
    "関数内    5678  \n",
    "(return & x=add3_return(x)でxに5678が渡される) \n",
    "x         5678   \n",
    "```"
   ]
  },
  {
   "cell_type": "code",
   "execution_count": 76,
   "id": "ed891d5d",
   "metadata": {},
   "outputs": [
    {
     "name": "stdout",
     "output_type": "stream",
     "text": [
      "外：\n",
      " value 1\n",
      " id 1646835099952\n",
      "関数内：値変更前\n",
      " value 1\n",
      " id 1646835099952\n",
      "関数内：値変更後\n",
      " value 4\n",
      " id 1646835100048\n",
      "外：\n",
      " value 1\n",
      " id 1646835099952\n"
     ]
    }
   ],
   "source": [
    " def add3(n):\n",
    "    print(\"関数内：値変更前\")\n",
    "    print(\" value\",n)\n",
    "    print(\" id\",id(n))\n",
    "    n += 3\n",
    "    print(\"関数内：値変更後\")\n",
    "    print(\" value\",n)\n",
    "    print(\" id\",id(n))\n",
    "    \n",
    "\n",
    "x = 1\n",
    "\n",
    "print(\"外：\")\n",
    "print(\" value\",x)\n",
    "print(\" id\",id(x))\n",
    "\n",
    "function(x)\n",
    "\n",
    "print(\"外：\")\n",
    "print(\" value\",x)\n",
    "print(\" id\",id(x))"
   ]
  },
  {
   "cell_type": "markdown",
   "id": "f48084e4",
   "metadata": {},
   "source": [
    "アドレス  \n",
    "```\n",
    "x         1234  \n",
    "(値渡し(参照渡し) 1234を関数内に渡す)\n",
    "関数内    1234   \n",
    "(値を変更 1234→5678 (intはイミュータブルであるため、新しい番地に新しい値を生み出すことで、値の変更をみせかけで行っている))        \n",
    "関数内    5678   \n",
    "(何も返されない)\n",
    "x         1234   \n",
    "```"
   ]
  },
  {
   "cell_type": "code",
   "execution_count": 84,
   "id": "78e96f1c",
   "metadata": {},
   "outputs": [
    {
     "name": "stdout",
     "output_type": "stream",
     "text": [
      "[4, 2]\n"
     ]
    }
   ],
   "source": [
    "def add3_return(n):\n",
    "    n[0] += 3\n",
    "    return n\n",
    "\n",
    "x = [1,2]\n",
    "x = add3_return(x)\n",
    "print(x)"
   ]
  },
  {
   "cell_type": "code",
   "execution_count": 82,
   "id": "b40e3293",
   "metadata": {},
   "outputs": [
    {
     "name": "stdout",
     "output_type": "stream",
     "text": [
      "[4, 2]\n"
     ]
    }
   ],
   "source": [
    "def add3(n):\n",
    "    n[0] += 3\n",
    "    \n",
    "x = [1,2]\n",
    "add3(x)\n",
    "print(x)"
   ]
  },
  {
   "cell_type": "code",
   "execution_count": 53,
   "id": "5b6e4adb",
   "metadata": {},
   "outputs": [
    {
     "name": "stdout",
     "output_type": "stream",
     "text": [
      "代入前：a=1, b=1\n",
      " id(a)= 1646835099952\n",
      " id(b)= 1646835099952\n",
      "代入後：a=3, b=1\n",
      " id(a)= 1646835100016\n",
      " id(b)= 1646835099952\n"
     ]
    }
   ],
   "source": [
    "a = 1\n",
    "\n",
    "# aをbにコピー\n",
    "b = a\n",
    "print(\"代入前：a={}, b={}\".format(a,b))\n",
    "print(\" id(a)=\",id(a))\n",
    "print(\" id(b)=\",id(b))\n",
    "\n",
    "# aに3を代入\n",
    "a = 3\n",
    "print(\"代入後：a={}, b={}\".format(a,b))\n",
    "print(\" id(a)=\",id(a))\n",
    "print(\" id(b)=\",id(b))"
   ]
  },
  {
   "cell_type": "markdown",
   "id": "0d199bb6",
   "metadata": {},
   "source": [
    "y = xというコピーは、   \n",
    "「xの中身(**数値**)をyにコピーしている」のではなく、   \n",
    "「xの中身(**参照先のアドレス**)をyにコピーしている」。   "
   ]
  },
  {
   "cell_type": "markdown",
   "id": "e22760b4",
   "metadata": {},
   "source": []
  },
  {
   "cell_type": "code",
   "execution_count": null,
   "id": "b96d5d21",
   "metadata": {},
   "outputs": [],
   "source": []
  }
 ],
 "metadata": {
  "kernelspec": {
   "display_name": "Python 3 (ipykernel)",
   "language": "python",
   "name": "python3"
  },
  "language_info": {
   "codemirror_mode": {
    "name": "ipython",
    "version": 3
   },
   "file_extension": ".py",
   "mimetype": "text/x-python",
   "name": "python",
   "nbconvert_exporter": "python",
   "pygments_lexer": "ipython3",
   "version": "3.9.13"
  }
 },
 "nbformat": 4,
 "nbformat_minor": 5
}
