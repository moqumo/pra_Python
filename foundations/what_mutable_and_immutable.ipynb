{
 "cells": [
  {
   "cell_type": "markdown",
   "id": "27b52067",
   "metadata": {},
   "source": [
    "# pythonにおける変数 ～ミュータブルとイミュータブル～"
   ]
  },
  {
   "cell_type": "markdown",
   "id": "c8138dc6",
   "metadata": {},
   "source": [
    "## 1 ミュータブルとイミュータブルとは\n",
    "- **ミュータブル** ... 変更可能な変数の型\n",
    "- **イミュータブル** ... 変更不可能な変数の型（static変数)\n",
    "\n",
    "### 1.1 pythonにおけるミュータブルとイミュータブルの例\n",
    "- ミュータブルである変数型の例 ... 数値型(int, float)、文字列型、タプル型など\n",
    "- イミュータブルである変数型の例 ... ディクショナリ型、リスト型"
   ]
  },
  {
   "cell_type": "markdown",
   "id": "409b62e6",
   "metadata": {},
   "source": [
    "## 2 イミュータブルだけど見かけはミュータブル\n",
    "pythonで、数値や文字列を扱うときはイミュータブルであることを意識しなくとも簡単に利用することができる。    \n",
    "例えば、以下の処理には何の不思議もない。"
   ]
  },
  {
   "cell_type": "code",
   "execution_count": 3,
   "id": "9a032db6",
   "metadata": {},
   "outputs": [
    {
     "data": {
      "text/plain": [
       "300"
      ]
     },
     "execution_count": 3,
     "metadata": {},
     "output_type": "execute_result"
    }
   ],
   "source": [
    "x = 100\n",
    "x = 100*3\n",
    "x"
   ]
  },
  {
   "cell_type": "markdown",
   "id": "8d9eb750",
   "metadata": {},
   "source": [
    "しかし、xという変数はイミュータブルのに、なぜこのような処理ができるのか。    \n",
    "それはアドレスを確認することで、わかる。"
   ]
  },
  {
   "cell_type": "code",
   "execution_count": 7,
   "id": "3fd5c1f3",
   "metadata": {},
   "outputs": [
    {
     "name": "stdout",
     "output_type": "stream",
     "text": [
      "1980870776272\n",
      "1980870779536\n"
     ]
    },
    {
     "data": {
      "text/plain": [
       "200"
      ]
     },
     "execution_count": 7,
     "metadata": {},
     "output_type": "execute_result"
    }
   ],
   "source": [
    "x = 100\n",
    "print(id(x))\n",
    "x = x*2\n",
    "print(id(x))\n",
    "x"
   ]
  },
  {
   "cell_type": "markdown",
   "id": "fd103e46",
   "metadata": {},
   "source": [
    "xが保持しているアドレス(ID)が1980870776272から1980870779536に変わっている。   \n",
    "これを、スタック領域とヒープ領域で考えると以下のように図示できる。\n",
    "```\n",
    "スタック：x => 1980870776272\n",
    "ヒープ　：1980870776272 => 100\n",
    "x = x*2\n",
    "スタック：旧x => 1980870776272\n",
    "　　　　　新x => 1980870779536\n",
    "ヒープ　：1980870776272 => 100\n",
    "　　　　　1980870779536 => 200\n",
    "```"
   ]
  },
  {
   "cell_type": "markdown",
   "id": "5757b226",
   "metadata": {},
   "source": [
    "C言語の処理と対比してみる。\n",
    "```\n",
    "int a = 1;\n",
    "a = a*100;\n",
    "```\n",
    "C言語において、値の更新の前後で変数aのスタック領域において格納している"
   ]
  },
  {
   "cell_type": "code",
   "execution_count": 9,
   "id": "eca948ff",
   "metadata": {
    "scrolled": true
   },
   "outputs": [
    {
     "name": "stdout",
     "output_type": "stream",
     "text": [
      "1980870777008\n",
      "1980876006192\n"
     ]
    }
   ],
   "source": [
    "x = 123\n",
    "print(id(x))\n",
    "x = 'abc'\n",
    "print(id(x))"
   ]
  },
  {
   "cell_type": "code",
   "execution_count": null,
   "id": "55fc287f",
   "metadata": {},
   "outputs": [],
   "source": []
  }
 ],
 "metadata": {
  "kernelspec": {
   "display_name": "Python 3 (ipykernel)",
   "language": "python",
   "name": "python3"
  },
  "language_info": {
   "codemirror_mode": {
    "name": "ipython",
    "version": 3
   },
   "file_extension": ".py",
   "mimetype": "text/x-python",
   "name": "python",
   "nbconvert_exporter": "python",
   "pygments_lexer": "ipython3",
   "version": "3.9.13"
  }
 },
 "nbformat": 4,
 "nbformat_minor": 5
}
